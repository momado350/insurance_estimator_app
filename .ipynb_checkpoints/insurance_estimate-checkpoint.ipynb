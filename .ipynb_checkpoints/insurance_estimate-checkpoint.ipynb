{
 "cells": [
  {
   "cell_type": "code",
   "execution_count": 5,
   "metadata": {},
   "outputs": [],
   "source": [
    "# first of all we want check if individual is smoker or not\n",
    "#create estimated_smoker function\n",
    "def analyze_smoker(smoker_status):\n",
    "  if smoker_status == 1:\n",
    "    print(\"To lower your cost, you should consider quitting smoking.\")\n",
    "  else:\n",
    "    print(\"Smoking is not an issue for you.\")\n"
   ]
  },
  {
   "cell_type": "code",
   "execution_count": 6,
   "metadata": {},
   "outputs": [],
   "source": [
    "#define analyze_bmi function\n",
    "def analyze_bmi(bmi_value):\n",
    "  if bmi_value > 30:\n",
    "    print(\"Your BMI is in the obese range. To lower your cost, you should significantly lower your BMI.\")\n",
    "  elif bmi_value >= 25 and bmi_value <= 30:\n",
    "    print(\"Your BMI is in the overweight range. To lower your cost, you should lower your BMI.\")\n",
    "  elif bmi_value >= 18.5 and bmi_value < 25:\n",
    "    print(\"Your BMI is in a healthy range.\")\n",
    "  else:\n",
    "    print(\"Your BMI is in the underweight range. Increasing your BMI will not help lower your cost, but it will help improve your health.\")"
   ]
  },
  {
   "cell_type": "code",
   "execution_count": 7,
   "metadata": {},
   "outputs": [],
   "source": [
    " #define a Function to estimate insurance cost:\n",
    "def estimate_insurance_cost(name, age, sex, bmi, num_of_children, smoker):\n",
    "  \n",
    "  estimated_cost = 250*age - 128*sex + 370*bmi + 425*num_of_children + 24000*smoker - 12500\n",
    "  print(name + \"'s Estimated Insurance Cost: \" + str(estimated_cost) + \" dollars.\")\n",
    "  analyze_smoker(smoker)\n",
    "  analyze_bmi(bmi)\n",
    "\n",
    "  return estimated_cost"
   ]
  },
  {
   "cell_type": "code",
   "execution_count": 8,
   "metadata": {},
   "outputs": [
    {
     "name": "stdout",
     "output_type": "stream",
     "text": [
      "John Doe's Estimated Insurance Cost: 5974.0 dollars.\n",
      "Smoking is not an issue for you.\n",
      "Your BMI is in a healthy range.\n"
     ]
    }
   ],
   "source": [
    "# test Estimated insurance cost\n",
    "johnDoe_insurance_cost = estimate_insurance_cost(name='John Doe', age = 40, sex = 1, bmi = 22.1, num_of_children = 1, smoker = 0)"
   ]
  }
 ],
 "metadata": {
  "kernelspec": {
   "display_name": "Python [conda env:PythonData] *",
   "language": "python",
   "name": "conda-env-PythonData-py"
  },
  "language_info": {
   "codemirror_mode": {
    "name": "ipython",
    "version": 3
   },
   "file_extension": ".py",
   "mimetype": "text/x-python",
   "name": "python",
   "nbconvert_exporter": "python",
   "pygments_lexer": "ipython3",
   "version": "3.6.10"
  }
 },
 "nbformat": 4,
 "nbformat_minor": 4
}
